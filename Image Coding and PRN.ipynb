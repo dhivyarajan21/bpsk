{
 "cells": [
  {
   "cell_type": "markdown",
   "metadata": {},
   "source": [
    "## Import Modules"
   ]
  },
  {
   "cell_type": "code",
   "execution_count": 1,
   "metadata": {},
   "outputs": [],
   "source": [
    "import cv2\n",
    "from matplotlib import pyplot\n",
    "import numpy as np\n",
    "from numpy import matlib"
   ]
  },
  {
   "cell_type": "markdown",
   "metadata": {},
   "source": [
    "# Definitions"
   ]
  },
  {
   "cell_type": "code",
   "execution_count": 62,
   "metadata": {},
   "outputs": [],
   "source": [
    "def shift(register, feedback, output):\n",
    "    \"\"\"GPS Shift Register\n",
    "    \n",
    "    :param list feedback: which positions to use as feedback (1 indexed)\n",
    "    :param list output: which positions are output (1 indexed)\n",
    "    :returns output of shift register:\n",
    "    \n",
    "    \"\"\"\n",
    "    \n",
    "    # calculate output\n",
    "    out = [register[i-1] for i in output]\n",
    "    if len(out) > 1:\n",
    "        out = sum(out) % 2\n",
    "    else:\n",
    "        out = out[0]\n",
    "        \n",
    "    # modulo 2 add feedback\n",
    "    fb = sum([register[i-1] for i in feedback]) % 2\n",
    "    \n",
    "    # shift to the right\n",
    "    for i in reversed(range(len(register[1:]))):\n",
    "        register[i+1] = register[i]\n",
    "        \n",
    "    # put feedback in position 1\n",
    "    register[0] = fb\n",
    "    \n",
    "    return out"
   ]
  },
  {
   "cell_type": "code",
   "execution_count": 63,
   "metadata": {},
   "outputs": [],
   "source": [
    "def PRN(sv):\n",
    "    \"\"\"Build the CA code (PRN) for a given satellite ID\n",
    "    \n",
    "    :param int sv: satellite code (1-32)\n",
    "    :returns list: ca code for chosen satellite\n",
    "    \n",
    "    \"\"\"\n",
    "    \n",
    "    # init registers\n",
    "    G1 = [1 for i in range(10)]\n",
    "    G2 = [1 for i in range(10)]\n",
    "\n",
    "    ca = [] # stuff output in here\n",
    "    \n",
    "    # create sequence\n",
    "    for i in range(1023):\n",
    "        g1 = shift(G1, [3,10], [10])\n",
    "        g2 = shift(G2, [2,3,6,8,9,10], SV[sv]) # <- sat chosen here from table\n",
    "        \n",
    "        # modulo 2 add and append to the code\n",
    "        ca.append((g1 + g2) % 2)\n",
    "\n",
    "    # return C/A code!\n",
    "    return ca"
   ]
  },
  {
   "cell_type": "markdown",
   "metadata": {},
   "source": [
    "# Constants"
   ]
  },
  {
   "cell_type": "code",
   "execution_count": 4,
   "metadata": {},
   "outputs": [],
   "source": [
    "SV = {\n",
    "   1: [2,6],\n",
    "   2: [3,7],\n",
    "   3: [4,8],\n",
    "   4: [5,9],\n",
    "   5: [1,9],\n",
    "   6: [2,10],\n",
    "   7: [1,8],\n",
    "   8: [2,9],\n",
    "   9: [3,10],\n",
    "  10: [2,3],\n",
    "  11: [3,4],\n",
    "  12: [5,6],\n",
    "  13: [6,7],\n",
    "  14: [7,8],\n",
    "  15: [8,9],\n",
    "  16: [9,10],\n",
    "  17: [1,4],\n",
    "  18: [2,5],\n",
    "  19: [3,6],\n",
    "  20: [4,7],\n",
    "  21: [5,8],\n",
    "  22: [6,9],\n",
    "  23: [1,3],\n",
    "  24: [4,6],\n",
    "  25: [5,7],\n",
    "  26: [6,8],\n",
    "  27: [7,9],\n",
    "  28: [8,10],\n",
    "  29: [1,6],\n",
    "  30: [2,7],\n",
    "  31: [3,8],\n",
    "  32: [4,9],\n",
    "}"
   ]
  },
  {
   "cell_type": "markdown",
   "metadata": {},
   "source": [
    "## Read Image and display it"
   ]
  },
  {
   "cell_type": "code",
   "execution_count": 5,
   "metadata": {},
   "outputs": [],
   "source": [
    "im1 = cv2.imread('Images/Images/Image1.png')"
   ]
  },
  {
   "cell_type": "code",
   "execution_count": 6,
   "metadata": {},
   "outputs": [
    {
     "data": {
      "image/png": "[encoded data removed]",
      "text/plain": [
       "<matplotlib.figure.Figure at 0x7faf568e2390>"
      ]
     },
     "metadata": {},
     "output_type": "display_data"
    }
   ],
   "source": [
    "pyplot.imshow(im1)\n",
    "pyplot.xticks([]), pyplot.yticks([])\n",
    "pyplot.show()"
   ]
  },
  {
   "cell_type": "markdown",
   "metadata": {},
   "source": [
    "## Convert Image to array"
   ]
  },
  {
   "cell_type": "code",
   "execution_count": 7,
   "metadata": {},
   "outputs": [
    {
     "data": {
      "text/plain": [
       "(225, 225, 3)"
      ]
     },
     "execution_count": 7,
     "metadata": {},
     "output_type": "execute_result"
    }
   ],
   "source": [
    "im1array = np.array(im1)\n",
    "im1array.shape"
   ]
  },
  {
   "cell_type": "code",
   "execution_count": 8,
   "metadata": {},
   "outputs": [
    {
     "name": "stdout",
     "output_type": "stream",
     "text": [
      "(151875,)\n",
      "<class 'numpy.uint8'>\n"
     ]
    }
   ],
   "source": [
    "im1flat =im1array.flatten()\n",
    "print(im1flat.shape)\n",
    "print(type(im1flat[0]))\n"
   ]
  },
  {
   "cell_type": "code",
   "execution_count": 9,
   "metadata": {},
   "outputs": [
    {
     "name": "stdout",
     "output_type": "stream",
     "text": [
      "151875\n"
     ]
    }
   ],
   "source": [
    "bitfeed = im1flat\n",
    "print(len(bitfeed))"
   ]
  },
  {
   "cell_type": "code",
   "execution_count": 10,
   "metadata": {},
   "outputs": [],
   "source": [
    "im1reshape = np.reshape(im1flat, (225,225,3))"
   ]
  },
  {
   "cell_type": "markdown",
   "metadata": {},
   "source": [
    "## Plot the reshaped flattened array"
   ]
  },
  {
   "cell_type": "code",
   "execution_count": 11,
   "metadata": {},
   "outputs": [
    {
     "data": {
      "image/png": "[encoded data removed]",
      "text/plain": [
       "<matplotlib.figure.Figure at 0x7faf568e2d30>"
      ]
     },
     "metadata": {},
     "output_type": "display_data"
    }
   ],
   "source": [
    "pyplot.imshow(im1reshape)\n",
    "pyplot.xticks([]), pyplot.yticks([])\n",
    "pyplot.show()"
   ]
  },
  {
   "cell_type": "markdown",
   "metadata": {},
   "source": [
    "# Generate P Codes"
   ]
  },
  {
   "cell_type": "code",
   "execution_count": 12,
   "metadata": {},
   "outputs": [
    {
     "name": "stdout",
     "output_type": "stream",
     "text": [
      "[1, 1, 0, 0, 1, 0, 0, 0, 0, 0]\n"
     ]
    }
   ],
   "source": [
    "# init registers\n",
    "G1 = [1 for i in range(10)]\n",
    "G2 = [1 for i in range(10)]\n",
    "\n",
    "# work out first 10 bits\n",
    "ca = []\n",
    "for i in range(10):\n",
    "    g1 = shift(G1, [3,10], [10]) #feedback 3,10, output 10\n",
    "    g2 = shift(G2, [2,3,6,8,9,10], [2,6]) #feedback 2,3,6,8,9,10, output 2,6 for sat 1\n",
    "    ca.append((g1 + g2) % 2)\n",
    "\n",
    "print(ca)"
   ]
  },
  {
   "cell_type": "code",
   "execution_count": 13,
   "metadata": {},
   "outputs": [],
   "source": [
    "sig1 = PRN(24)\n",
    "sig2 = PRN(1)"
   ]
  },
  {
   "cell_type": "code",
   "execution_count": 14,
   "metadata": {},
   "outputs": [
    {
     "data": {
      "text/plain": [
       "[<matplotlib.lines.Line2D at 0x7faf56835400>]"
      ]
     },
     "execution_count": 14,
     "metadata": {},
     "output_type": "execute_result"
    },
    {
     "data": {
      "image/png": "[encoded data removed]",
      "text/plain": [
       "<matplotlib.figure.Figure at 0x7faf56835a20>"
      ]
     },
     "metadata": {},
     "output_type": "display_data"
    }
   ],
   "source": [
    "pyplot.plot(range(0, len(sig1)),sig1 )\n",
    "pyplot.plot(range(0, len(sig2)),sig2 )"
   ]
  },
  {
   "cell_type": "code",
   "execution_count": 15,
   "metadata": {},
   "outputs": [
    {
     "name": "stdout",
     "output_type": "stream",
     "text": [
      "<class 'numpy.ndarray'> 1023 1023\n"
     ]
    },
    {
     "data": {
      "text/plain": [
       "[<matplotlib.lines.Line2D at 0x7faf567e4860>]"
      ]
     },
     "execution_count": 15,
     "metadata": {},
     "output_type": "execute_result"
    },
    {
     "data": {
      "image/png": "[encoded data removed]",
      "text/plain": [
       "<matplotlib.figure.Figure at 0x7faf568e2be0>"
      ]
     },
     "metadata": {},
     "output_type": "display_data"
    }
   ],
   "source": [
    "xcorr = np.correlate(sig1, sig2, \"full\")\n",
    "print(type(xcorr), len(sig1), len(sig2))\n",
    "bias = np.arange(1, len(sig1)) \n",
    "\n",
    "#print(np.flip(bias, 0))\n",
    "fbias = np.concatenate((bias, len(sig1) + 1, np.flip(bias,0)), axis=None)\n",
    "\n",
    "xcorr = xcorr/fbias\n",
    "pyplot.plot(range(0, 2*len(sig1)-1),  xcorr)"
   ]
  },
  {
   "cell_type": "code",
   "execution_count": 16,
   "metadata": {},
   "outputs": [
    {
     "data": {
      "text/plain": [
       "[<matplotlib.lines.Line2D at 0x7faf567cf5c0>]"
      ]
     },
     "execution_count": 16,
     "metadata": {},
     "output_type": "execute_result"
    },
    {
     "data": {
      "image/png": "[encoded data removed]",
      "text/plain": [
       "<matplotlib.figure.Figure at 0x7faf56886208>"
      ]
     },
     "metadata": {},
     "output_type": "display_data"
    }
   ],
   "source": [
    "xcorr2 = np.correlate(sig1, sig1, \"full\")/fbias\n",
    "pyplot.plot(range(0, 2*len(sig1)-1),  xcorr2)"
   ]
  },
  {
   "cell_type": "code",
   "execution_count": 17,
   "metadata": {},
   "outputs": [],
   "source": [
    "bitcode = np.array(sig1)"
   ]
  },
  {
   "cell_type": "markdown",
   "metadata": {},
   "source": [
    "# Combine Code with Image"
   ]
  },
  {
   "cell_type": "code",
   "execution_count": 18,
   "metadata": {},
   "outputs": [
    {
     "name": "stdout",
     "output_type": "stream",
     "text": [
      "149\n"
     ]
    }
   ],
   "source": [
    "rpts = int(np.ceil(len(bitfeed)/len(bitcode)))\n",
    "print(rpts)"
   ]
  },
  {
   "cell_type": "code",
   "execution_count": 19,
   "metadata": {},
   "outputs": [],
   "source": [
    "full_bitcode = matlib.repmat(bitcode, 1, rpts)"
   ]
  },
  {
   "cell_type": "code",
   "execution_count": 20,
   "metadata": {},
   "outputs": [],
   "source": [
    "#pyplot.plot(bitcode)"
   ]
  },
  {
   "cell_type": "code",
   "execution_count": 21,
   "metadata": {},
   "outputs": [
    {
     "data": {
      "text/plain": [
       "152427"
      ]
     },
     "execution_count": 21,
     "metadata": {},
     "output_type": "execute_result"
    }
   ],
   "source": [
    "full_bitcode.size"
   ]
  },
  {
   "cell_type": "code",
   "execution_count": 22,
   "metadata": {},
   "outputs": [
    {
     "data": {
      "text/plain": [
       "152427"
      ]
     },
     "execution_count": 22,
     "metadata": {},
     "output_type": "execute_result"
    }
   ],
   "source": [
    "paddedImage = np.pad(im1flat, (0, full_bitcode.size - bitfeed.size), 'constant', constant_values=(0,0))\n",
    "paddedImage.size\n",
    "full_bitcode.size"
   ]
  },
  {
   "cell_type": "code",
   "execution_count": 23,
   "metadata": {},
   "outputs": [
    {
     "name": "stdout",
     "output_type": "stream",
     "text": [
      "152427\n"
     ]
    }
   ],
   "source": [
    "codedImage = paddedImage ^ full_bitcode\n",
    "print(codedImage.size)"
   ]
  },
  {
   "cell_type": "code",
   "execution_count": 24,
   "metadata": {},
   "outputs": [],
   "source": [
    "padding = full_bitcode.size - bitfeed.size"
   ]
  },
  {
   "cell_type": "code",
   "execution_count": 26,
   "metadata": {},
   "outputs": [],
   "source": [
    "recovery = codedImage ^ full_bitcode"
   ]
  },
  {
   "cell_type": "code",
   "execution_count": 43,
   "metadata": {},
   "outputs": [
    {
     "name": "stdout",
     "output_type": "stream",
     "text": [
      "[[0 0 0 ..., 0 0 0]]\n",
      "152427 151875 151875\n",
      "255 0\n"
     ]
    }
   ],
   "source": [
    "recovered_lesspadding = recovery[:, 0:recovery.size-padding]\n",
    "print(recovered_lesspadding)\n",
    "print(recovery.size, recovered_lesspadding.size, recovery.size-padding )\n",
    "print(max(max(recovery)), min(min(recovery)))"
   ]
  },
  {
   "cell_type": "code",
   "execution_count": 60,
   "metadata": {},
   "outputs": [],
   "source": [
    "recoveredim1 = np.reshape(recovered_lesspadding/255, (225,225,3))"
   ]
  },
  {
   "cell_type": "code",
   "execution_count": 61,
   "metadata": {},
   "outputs": [
    {
     "data": {
      "text/plain": [
       "<matplotlib.image.AxesImage at 0x7faf563d2550>"
      ]
     },
     "execution_count": 61,
     "metadata": {},
     "output_type": "execute_result"
    },
    {
     "data": {
      "image/png": "[encoded data removed]",
      "text/plain": [
       "<matplotlib.figure.Figure at 0x7faf5677d908>"
      ]
     },
     "metadata": {},
     "output_type": "display_data"
    }
   ],
   "source": [
    "pyplot.imshow(recoveredim1)"
   ]
  },
  {
   "cell_type": "code",
   "execution_count": null,
   "metadata": {},
   "outputs": [],
   "source": []
  }
 ],
 "metadata": {
  "kernelspec": {
   "display_name": "Python 3",
   "language": "python",
   "name": "python3"
  },
  "language_info": {
   "codemirror_mode": {
    "name": "ipython",
    "version": 3
   },
   "file_extension": ".py",
   "mimetype": "text/x-python",
   "name": "python",
   "nbconvert_exporter": "python",
   "pygments_lexer": "ipython3",
   "version": "3.6.7"
  }
 },
 "nbformat": 4,
 "nbformat_minor": 2
}
