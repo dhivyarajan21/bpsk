{
 "cells": [
  {
   "cell_type": "markdown",
   "metadata": {},
   "source": [
    "# Imports "
   ]
  },
  {
   "cell_type": "code",
   "execution_count": 43,
   "metadata": {},
   "outputs": [],
   "source": [
    "import cv2\n",
    "from matplotlib import pyplot\n",
    "import numpy as np\n",
    "from numpy import matlib\n",
    "import re\n",
    "import operator\n",
    "from cmath import *\n",
    "import time"
   ]
  },
  {
   "cell_type": "markdown",
   "metadata": {},
   "source": [
    "# Definitions"
   ]
  },
  {
   "cell_type": "code",
   "execution_count": 44,
   "metadata": {},
   "outputs": [],
   "source": [
    "def shift(register, feedback, output):\n",
    "    \n",
    "    # calculate output\n",
    "    out = [register[i-1] for i in output]\n",
    "    if len(out) > 1:\n",
    "        out = sum(out) % 2\n",
    "    else:\n",
    "        out = out[0]\n",
    "        \n",
    "    # modulo 2 add feedback\n",
    "    fb = sum([register[i-1] for i in feedback]) % 2\n",
    "    \n",
    "    # shift to the right\n",
    "    for i in reversed(range(len(register[1:]))):\n",
    "        register[i+1] = register[i]\n",
    "        \n",
    "    # put feedback in position 1\n",
    "    register[0] = fb\n",
    "    \n",
    "    return out"
   ]
  },
  {
   "cell_type": "code",
   "execution_count": 45,
   "metadata": {},
   "outputs": [],
   "source": [
    "def PRN(sv):\n",
    "    \n",
    "    # init registers\n",
    "    G1 = [1 for i in range(10)]\n",
    "    G2 = [1 for i in range(10)]\n",
    "\n",
    "    ca = [] # stuff output in here\n",
    "    \n",
    "    # create sequence\n",
    "    for i in range(1023):\n",
    "        g1 = shift(G1, [3,10], [10])\n",
    "        g2 = shift(G2, [2,3,6,8,9,10], SV[sv]) # <- sat chosen here from table\n",
    "        \n",
    "        # modulo 2 add and append to the code\n",
    "        ca.append((g1 + g2) % 2)\n",
    "\n",
    "    # return C/A code\n",
    "    return ca"
   ]
  },
  {
   "cell_type": "code",
   "execution_count": 46,
   "metadata": {},
   "outputs": [],
   "source": [
    "def int2binarr(intnum, sizeup = False, sz = 8):\n",
    "    binbin = bin(intnum)\n",
    "    binstrip = re.sub('0b', '', str(binbin))\n",
    "    if sizeup and (len(binstrip) !=sz) :\n",
    "        binstrip = '0'*(sz-len(binstrip)) + binstrip\n",
    "    binbin_ = re.sub('0', '0 ', binstrip)\n",
    "    binbin_ = re.sub('1', '1 ', binbin_)\n",
    "    binarr = np.fromstring(binbin_, dtype=int, sep=' ')\n",
    "    return binarr"
   ]
  },
  {
   "cell_type": "code",
   "execution_count": 47,
   "metadata": {},
   "outputs": [],
   "source": [
    "def sigplot(num_samples, complex_signal, viewsize):\n",
    "    pyplot.plot(np.arange(0, num_samples), complex_signal.real)\n",
    "    pyplot.plot(np.arange(0, num_samples), complex_signal.imag)\n",
    "    pyplot.xlim(viewsize)\n",
    "    pyplot.show()"
   ]
  },
  {
   "cell_type": "code",
   "execution_count": 48,
   "metadata": {},
   "outputs": [],
   "source": [
    "# Knuth-Morris-Pratt string matching\n",
    "# David Eppstein, UC Irvine, 1 Mar 2002\n",
    "\n",
    "from __future__ import generators\n",
    "\n",
    "def KnuthMorrisPratt(text, pattern):\n",
    "\n",
    "    '''Yields all starting positions of copies of the pattern in the text.\n",
    "Calling conventions are similar to string.find, but its arguments can be\n",
    "lists or iterators, not just strings, it returns all matches, not just\n",
    "the first one, and it does not need the whole text in memory at once.\n",
    "Whenever it yields, it will have read the text exactly up to and including\n",
    "the match that caused the yield.'''\n",
    "\n",
    "    # allow indexing into pattern and protect against change during yield\n",
    "    pattern = list(pattern)\n",
    "\n",
    "    # build table of shift amounts\n",
    "    shifts = [1] * (len(pattern) + 1)\n",
    "    shift = 1\n",
    "    for pos in range(len(pattern)):\n",
    "        while shift <= pos and pattern[pos] != pattern[pos-shift]:\n",
    "            shift += shifts[pos-shift]\n",
    "        shifts[pos+1] = shift\n",
    "\n",
    "    # do the actual search\n",
    "    startPos = 0\n",
    "    matchLen = 0\n",
    "    for c in text:\n",
    "        while matchLen == len(pattern) or \\\n",
    "              matchLen >= 0 and pattern[matchLen] != c:\n",
    "            startPos += shifts[matchLen]\n",
    "            matchLen -= shifts[matchLen]\n",
    "        matchLen += 1\n",
    "        if matchLen == len(pattern):\n",
    "            yield startPos"
   ]
  },
  {
   "cell_type": "code",
   "execution_count": 49,
   "metadata": {},
   "outputs": [],
   "source": [
    "def binarr2int(arr):\n",
    "    bitlen = int(''.join(map(str, arr)), 2)\n",
    "    return bitlen"
   ]
  },
  {
   "cell_type": "code",
   "execution_count": 50,
   "metadata": {},
   "outputs": [],
   "source": [
    "def searchhf(arr, patt):\n",
    "    identified = []\n",
    "    for s in KnuthMorrisPratt(arr, patt): \n",
    "        identified.append(s)\n",
    "    \n",
    "    return identified"
   ]
  },
  {
   "cell_type": "code",
   "execution_count": 51,
   "metadata": {},
   "outputs": [],
   "source": [
    "def findbitstring(sigsig, seqlen_from_head, seqlen_from_foot, datafoot):\n",
    "    #seqlen_from_head = [] #instantiate data lengths\n",
    "    #seqlen_from_foot = []\n",
    "    #datafoot = []\n",
    "    for s in sigsig.arraystart:\n",
    "        start = s+len(sigsig.head)\n",
    "        stop = s+len(sigsig.head)+sigsig.seqlen\n",
    "\n",
    "        head = sigsig.demodded[start:stop]\n",
    "        headlength = binarr2int(head)\n",
    "        seqlen_from_head.append(headlength)\n",
    "\n",
    "        foot = sigsig.demodded[(stop+headlength):(stop+sigsig.seqlen+headlength)]\n",
    "        footlength = binarr2int(foot)\n",
    "        seqlen_from_foot.append(footlength)\n",
    "\n",
    "        c = sigsig.demodded[stop+sigsig.seqlen+headlength:stop+sigsig.seqlen+headlength+len(sigsig.foot)]\n",
    "        footer = binarr2int(c)\n",
    "        datafoot.append(footer)"
   ]
  },
  {
   "cell_type": "code",
   "execution_count": 52,
   "metadata": {},
   "outputs": [],
   "source": [
    "def chunks(l, n):\n",
    "    for i in range(0, len(l), n):\n",
    "        yield l[i:i + n]"
   ]
  },
  {
   "cell_type": "markdown",
   "metadata": {},
   "source": [
    "# Create Signal Class"
   ]
  },
  {
   "cell_type": "code",
   "execution_count": 53,
   "metadata": {},
   "outputs": [],
   "source": [
    "class Signal:\n",
    "        '''Initialize signal class specifying a header and footer bit sequence\n",
    "        in Int format and a samples per symbol value. Default for samples per\n",
    "        symbol is 1'''\n",
    "        \n",
    "        def __init__(self, head, foot, sps = 1):\n",
    "            self.foot = int2binarr(foot).astype(np.int8)\n",
    "            self.head = int2binarr(head).astype(np.int8)\n",
    "            self.sps = sps\n",
    "        \n",
    "        '''load in a specified image where imageloc is the path to an image file'''\n",
    "        def imageload(self, imageloc):\n",
    "            self.image = cv2.imread(imageloc)\n",
    "        \n",
    "        '''flatten the image from a AxBxC to an ABCx1 1-D array'''\n",
    "        def flattendata(self):\n",
    "            self.flattened = (self.image).flatten()\n",
    "        \n",
    "        '''transform values in the 1-D array from decimal values to 8 bit arrays of 1s and 0s'''\n",
    "        def bitbybit(self):\n",
    "            breakdown = list(map(lambda x: int2binarr(x, True),self.flattened))\n",
    "            self.bitstream = np.concatenate(breakdown).ravel()            \n",
    "        \n",
    "        def prncode(self, codenum):\n",
    "            self.prn = PRN(codenum)\n",
    "        \n",
    "        def addstartstop(self):\n",
    "            sampledsig_=matlib.repmat(self.bitstream, self.sps, 1)\n",
    "            self.seqlen=10\n",
    "            dfv = len(self.prn) - (len(self.head) + len(self.foot) + 2*self.seqlen)\n",
    "            nume = len(self.bitstream)*self.sps\n",
    "            self.rpts = int(np.ceil(nume/dfv))\n",
    "            self.sampledsig = np.reshape(sampledsig_, sampledsig_.size, 1)\n",
    "            reshp = list(self.sampledsig)\n",
    "            aa = chunks(reshp, dfv)\n",
    "            header = list(self.head)\n",
    "            footer = list(self.foot)\n",
    "            a = []\n",
    "            for i in range(self.rpts):\n",
    "                data = next(aa)\n",
    "                blen = list(int2binarr(len(data), True, self.seqlen))\n",
    "                a.append(header + blen + data + blen + footer)\n",
    "            self.fullsignal = np.concatenate([np.array(i) for i in a])\n",
    "        \n",
    "        \n",
    "        def prnexpand(self):\n",
    "            self.fullcode = matlib.repmat(self.prn, 1, self.rpts)\n",
    "            \n",
    "            \n",
    "        def sigpad(self):\n",
    "            extrapad = (0, self.fullcode.size - self.fullsignal.size)\n",
    "            self.padded = np.pad(self.fullsignal, extrapad , 'constant', constant_values=(0,0))\n",
    "            \n",
    "        def modulate(self, Fc):\n",
    "            freq = eval(Fc)\n",
    "            T = 1/freq\n",
    "            numsamp = len(self.prn)\n",
    "            t = np.arange(0, self.rpts*numsamp)\n",
    "            freqspec = 2*pi*freq*t*T/numsamp\n",
    "            self.modded = np.fromiter(map(cos, freqspec + self.padded*pi), dtype=np.complex64)\n",
    "            self.carrierI = np.fromiter(map(cos, freqspec), dtype=np.complex64)\n",
    "            self.carrierQ = np.fromiter(map(sin, freqspec), dtype=np.complex64)\n",
    "            self.carrierI2 = np.square(self.carrierI)\n",
    "            self.carrierQ2 = 2*self.carrierI*self.carrierQ\n",
    "            \n",
    "        def shiftphase(self, rads):\n",
    "            phase = np.complex(cos(rads), sin(rads))\n",
    "            self.shiftedphase = self.modded*phase\n",
    "            self.pshift = rads\n",
    "            self.pshift_complex = phase\n",
    "        \n",
    "        def solvepshift(self):\n",
    "            overairp2 = pow(self.shiftedphase, 2)\n",
    "            absoverairp2 = pow(abs(self.shiftedphase),2)\n",
    "            phase_correction = np.sqrt(absoverairp2/overairp2)\n",
    "            self.pcorrected = phase_correction*self.shiftedphase\n",
    "        \n",
    "        def demodulate(self):\n",
    "            #self.modded switched with pcorrected\n",
    "            nume = -self.pcorrected*(self.carrierI.real +  1j*self.carrierQ.real)\n",
    "            deno = (1+ (self.carrierI2.real + 1j* self.carrierQ2.real))\n",
    "            demoddedsig = (0.5 + nume/deno)\n",
    "            self.demodded = np.round(demoddedsig.real).astype(np.uint8)\n",
    "            \n",
    "        def getstartstop(self):\n",
    "            self.arraystart = searchhf(self.demodded, self.head)\n",
    "            self.arraystop = searchhf(self.demodded, self.foot)\n",
    "                \n",
    "        def getvalidpairs(self):\n",
    "            self.head_datalength = []\n",
    "            self.foot_datalength = []\n",
    "            self.pfooter = []\n",
    "            findbitstring(self, self.head_datalength, self.foot_datalength, self.pfooter)\n",
    "            self.valpairs = []\n",
    "            for s, a, b, c in zip(self.pfooter, self.head_datalength, self.foot_datalength, self.arraystart):\n",
    "                if (s == binarr2int(self.foot)) & (a == b):\n",
    "                    self.valpairs.append((c+len(self.head)+self.seqlen, c + a + len(self.head) + self.seqlen))\n",
    "        def cutwithpairs(self):\n",
    "            bb = list(self.demodded)\n",
    "            reconstructedsignal = []\n",
    "            for a, b in self.valpairs:\n",
    "                reconstructedsignal.append(bb[a:b])\n",
    "            self.reconstructedarray = np.concatenate([np.array(i) for i in reconstructedsignal])\n",
    "        \n",
    "        def reshapesps(self):\n",
    "            self.recoveredsps2 = np.reshape(self.reconstructedarray, (self.sps, int(self.reconstructedarray.size/self.sps)), 1)\n",
    "            self.recoveredsps = self.recoveredsps2[0, :]\n",
    "            self.reshapedsig = np.reshape(self.recoveredsps, (self.image.size, 8))\n",
    "            \n",
    "        def reconimage(self):\n",
    "            a = []\n",
    "            for i in range(len(self.reshapedsig)):\n",
    "                charr = binarr2int(self.reshapedsig[i, :])\n",
    "                a.append(charr)\n",
    "            self.imagerecon = np.reshape(np.array(a), self.image.shape).astype(np.uint8)\n",
    "            \n",
    "        def reshapeimage(self):\n",
    "            b = self.imagerecon[:, :, 0]\n",
    "            g = self.imagerecon[:, :, 1]\n",
    "            r = self.imagerecon[:, :, 2]\n",
    "            self.imagereord = np.dstack((r, g, b))"
   ]
  },
  {
   "cell_type": "markdown",
   "metadata": {},
   "source": [
    "# Constants"
   ]
  },
  {
   "cell_type": "code",
   "execution_count": 54,
   "metadata": {},
   "outputs": [],
   "source": [
    "SV = {\n",
    "   1: [2,6],\n",
    "   2: [3,7],\n",
    "   3: [4,8],\n",
    "   4: [5,9],\n",
    "   5: [1,9],\n",
    "   6: [2,10],\n",
    "   7: [1,8],\n",
    "   8: [2,9],\n",
    "   9: [3,10],\n",
    "  10: [2,3],\n",
    "  11: [3,4],\n",
    "  12: [5,6],\n",
    "  13: [6,7],\n",
    "  14: [7,8],\n",
    "  15: [8,9],\n",
    "  16: [9,10],\n",
    "  17: [1,4],\n",
    "  18: [2,5],\n",
    "  19: [3,6],\n",
    "  20: [4,7],\n",
    "  21: [5,8],\n",
    "  22: [6,9],\n",
    "  23: [1,3],\n",
    "  24: [4,6],\n",
    "  25: [5,7],\n",
    "  26: [6,8],\n",
    "  27: [7,9],\n",
    "  28: [8,10],\n",
    "  29: [1,6],\n",
    "  30: [2,7],\n",
    "  31: [3,8],\n",
    "  32: [4,9],\n",
    "}"
   ]
  },
  {
   "cell_type": "markdown",
   "metadata": {},
   "source": [
    "# Generating Signal"
   ]
  },
  {
   "cell_type": "code",
   "execution_count": 55,
   "metadata": {},
   "outputs": [],
   "source": [
    "sig1 = Signal(123,143, 1) #signal 1 is given a header sequence of 123 and a footer sequence of 143"
   ]
  },
  {
   "cell_type": "markdown",
   "metadata": {},
   "source": [
    "###### Load an image and flatten the image to 1-D for conenvience & change to binary"
   ]
  },
  {
   "cell_type": "code",
   "execution_count": 56,
   "metadata": {},
   "outputs": [],
   "source": [
    "sig1.imageload('Images/Image1.png')"
   ]
  },
  {
   "cell_type": "code",
   "execution_count": 57,
   "metadata": {},
   "outputs": [],
   "source": [
    "sig1.flattendata()"
   ]
  },
  {
   "cell_type": "code",
   "execution_count": 58,
   "metadata": {},
   "outputs": [],
   "source": [
    "sig1.bitbybit()"
   ]
  },
  {
   "cell_type": "markdown",
   "metadata": {},
   "source": [
    "#### Generate a CA code to use (all lengths are 1023), sequence is expanded"
   ]
  },
  {
   "cell_type": "code",
   "execution_count": 59,
   "metadata": {},
   "outputs": [],
   "source": [
    "sig1.prncode(24) #specify sequence 24 to be used for coding the "
   ]
  },
  {
   "cell_type": "markdown",
   "metadata": {},
   "source": [
    "#### Add header and footer to packetize data"
   ]
  },
  {
   "cell_type": "code",
   "execution_count": 60,
   "metadata": {
    "scrolled": true
   },
   "outputs": [],
   "source": [
    "sig1.addstartstop()"
   ]
  },
  {
   "cell_type": "markdown",
   "metadata": {},
   "source": [
    "#### Expand PRN"
   ]
  },
  {
   "cell_type": "code",
   "execution_count": 61,
   "metadata": {},
   "outputs": [],
   "source": [
    "sig1.prnexpand()"
   ]
  },
  {
   "cell_type": "markdown",
   "metadata": {},
   "source": [
    "#### Pad the full signal with header & footer to match size of repeated CA sequence"
   ]
  },
  {
   "cell_type": "code",
   "execution_count": 62,
   "metadata": {},
   "outputs": [],
   "source": [
    "sig1.sigpad()"
   ]
  },
  {
   "cell_type": "markdown",
   "metadata": {},
   "source": [
    "#### Modulate Bits onto specified carrier waveform"
   ]
  },
  {
   "cell_type": "code",
   "execution_count": 63,
   "metadata": {},
   "outputs": [],
   "source": [
    "sig1.modulate('915e6')"
   ]
  },
  {
   "cell_type": "markdown",
   "metadata": {},
   "source": [
    "#### Phase shift the BPSK Signal"
   ]
  },
  {
   "cell_type": "code",
   "execution_count": 64,
   "metadata": {},
   "outputs": [],
   "source": [
    "sig1.shiftphase(pi/3)"
   ]
  },
  {
   "cell_type": "code",
   "execution_count": 65,
   "metadata": {},
   "outputs": [],
   "source": [
    "sig1.solvepshift()"
   ]
  },
  {
   "cell_type": "markdown",
   "metadata": {},
   "source": [
    "#### Demodulate the Corrected BPSK signal"
   ]
  },
  {
   "cell_type": "code",
   "execution_count": 66,
   "metadata": {},
   "outputs": [],
   "source": [
    "sig1.demodulate()"
   ]
  },
  {
   "cell_type": "markdown",
   "metadata": {},
   "source": [
    "#### Identify valid header and footer pairs"
   ]
  },
  {
   "cell_type": "code",
   "execution_count": 67,
   "metadata": {},
   "outputs": [],
   "source": [
    "sig1.getstartstop()"
   ]
  },
  {
   "cell_type": "code",
   "execution_count": 68,
   "metadata": {},
   "outputs": [],
   "source": [
    "sig1.getvalidpairs()"
   ]
  },
  {
   "cell_type": "markdown",
   "metadata": {},
   "source": [
    "#### Check if phase correction was correct (valid pairs shouldn't be empty)"
   ]
  },
  {
   "cell_type": "code",
   "execution_count": 69,
   "metadata": {},
   "outputs": [],
   "source": [
    "if not len(sig1.valpairs):\n",
    "    sig1.demodded = abs(sig1.demodded-1)\n",
    "    sig1.getstartstop()\n",
    "    sig1.getvalidpairs()\n",
    "    sig1.greaterthanpi = True"
   ]
  },
  {
   "cell_type": "markdown",
   "metadata": {},
   "source": [
    "# Reconstruct"
   ]
  },
  {
   "cell_type": "code",
   "execution_count": 70,
   "metadata": {
    "scrolled": false
   },
   "outputs": [],
   "source": [
    "sig1.cutwithpairs()"
   ]
  },
  {
   "cell_type": "code",
   "execution_count": 71,
   "metadata": {},
   "outputs": [],
   "source": [
    "sig1.reshapesps()"
   ]
  },
  {
   "cell_type": "code",
   "execution_count": 72,
   "metadata": {
    "scrolled": true
   },
   "outputs": [],
   "source": [
    "sig1.reconimage()"
   ]
  },
  {
   "cell_type": "code",
   "execution_count": 73,
   "metadata": {},
   "outputs": [],
   "source": [
    "sig1.reshapeimage()"
   ]
  },
  {
   "cell_type": "code",
   "execution_count": 94,
   "metadata": {
    "scrolled": true
   },
   "outputs": [
    {
     "data": {
      "text/plain": [
       "(-0.5, 224.5, 224.5, -0.5)"
      ]
     },
     "execution_count": 94,
     "metadata": {},
     "output_type": "execute_result"
    },
    {
     "data": {
      "image/png": "[encoded data removed]",
      "text/plain": [
       "<Figure size 432x288 with 4 Axes>"
      ]
     },
     "metadata": {
      "needs_background": "light"
     },
     "output_type": "display_data"
    }
   ],
   "source": [
    "fig, axs = pyplot.subplots(1, 2)\n",
    "columns = 2\n",
    "rows = 1\n",
    "axs[0].axis('off')\n",
    "axs[1].axis('off')\n",
    "\n",
    "fig.add_subplot(1,2,1)\n",
    "pyplot.imshow(sig1.imagereord)\n",
    "pyplot.axis('off')\n",
    "axs[0].set_title('Reconstructed')\n",
    "\n",
    "fig.add_subplot(1,2,2)\n",
    "pyplot.imshow(cv2.cvtColor(sig1.image, cv2.COLOR_BGR2RGB))\n",
    "axs[1].set_title('Original')\n",
    "pyplot.axis('off')"
   ]
  },
  {
   "cell_type": "code",
   "execution_count": null,
   "metadata": {},
   "outputs": [],
   "source": []
  }
 ],
 "metadata": {
  "kernelspec": {
   "display_name": "Python 3",
   "language": "python",
   "name": "python3"
  },
  "language_info": {
   "codemirror_mode": {
    "name": "ipython",
    "version": 3
   },
   "file_extension": ".py",
   "mimetype": "text/x-python",
   "name": "python",
   "nbconvert_exporter": "python",
   "pygments_lexer": "ipython3",
   "version": "3.7.1"
  }
 },
 "nbformat": 4,
 "nbformat_minor": 2
}
